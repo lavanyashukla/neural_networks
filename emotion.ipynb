{
  "nbformat": 4,
  "nbformat_minor": 0,
  "metadata": {
    "colab": {
      "name": "emotion.ipynb",
      "provenance": [],
      "collapsed_sections": [],
      "include_colab_link": true
    },
    "kernelspec": {
      "name": "python3",
      "display_name": "Python 3"
    },
    "accelerator": "GPU",
    "widgets": {
      "application/vnd.jupyter.widget-state+json": {
        "99cdaf8ccbd34ef18b3cde17604c1e3f": {
          "model_module": "@jupyter-widgets/controls",
          "model_name": "VBoxModel",
          "state": {
            "_view_name": "VBoxView",
            "_dom_classes": [],
            "_model_name": "VBoxModel",
            "_view_module": "@jupyter-widgets/controls",
            "_model_module_version": "1.5.0",
            "_view_count": null,
            "_view_module_version": "1.5.0",
            "box_style": "",
            "layout": "IPY_MODEL_924839cf51d34857ba2b2bf4a39a3b2a",
            "_model_module": "@jupyter-widgets/controls",
            "children": [
              "IPY_MODEL_b70d35103d5d440482e9a531dbe3f141",
              "IPY_MODEL_a432f44ba71f48f18dbcf47434a5dddb"
            ]
          }
        },
        "924839cf51d34857ba2b2bf4a39a3b2a": {
          "model_module": "@jupyter-widgets/base",
          "model_name": "LayoutModel",
          "state": {
            "_view_name": "LayoutView",
            "grid_template_rows": null,
            "right": null,
            "justify_content": null,
            "_view_module": "@jupyter-widgets/base",
            "overflow": null,
            "_model_module_version": "1.2.0",
            "_view_count": null,
            "flex_flow": null,
            "width": null,
            "min_width": null,
            "border": null,
            "align_items": null,
            "bottom": null,
            "_model_module": "@jupyter-widgets/base",
            "top": null,
            "grid_column": null,
            "overflow_y": null,
            "overflow_x": null,
            "grid_auto_flow": null,
            "grid_area": null,
            "grid_template_columns": null,
            "flex": null,
            "_model_name": "LayoutModel",
            "justify_items": null,
            "grid_row": null,
            "max_height": null,
            "align_content": null,
            "visibility": null,
            "align_self": null,
            "height": null,
            "min_height": null,
            "padding": null,
            "grid_auto_rows": null,
            "grid_gap": null,
            "max_width": null,
            "order": null,
            "_view_module_version": "1.2.0",
            "grid_template_areas": null,
            "object_position": null,
            "object_fit": null,
            "grid_auto_columns": null,
            "margin": null,
            "display": null,
            "left": null
          }
        },
        "b70d35103d5d440482e9a531dbe3f141": {
          "model_module": "@jupyter-widgets/controls",
          "model_name": "LabelModel",
          "state": {
            "_view_name": "LabelView",
            "style": "IPY_MODEL_de156a7257374c3197ba43f434639dbf",
            "_dom_classes": [],
            "description": "",
            "_model_name": "LabelModel",
            "placeholder": "​",
            "_view_module": "@jupyter-widgets/controls",
            "_model_module_version": "1.5.0",
            "value": " 0.02MB of 0.02MB uploaded (0.00MB deduped)\r",
            "_view_count": null,
            "_view_module_version": "1.5.0",
            "description_tooltip": null,
            "_model_module": "@jupyter-widgets/controls",
            "layout": "IPY_MODEL_b618e9a1cc064392bcb26e595b6252dc"
          }
        },
        "a432f44ba71f48f18dbcf47434a5dddb": {
          "model_module": "@jupyter-widgets/controls",
          "model_name": "FloatProgressModel",
          "state": {
            "_view_name": "ProgressView",
            "style": "IPY_MODEL_83c6107954424a6dbc4ec9be550769bb",
            "_dom_classes": [],
            "description": "",
            "_model_name": "FloatProgressModel",
            "bar_style": "",
            "max": 1,
            "_view_module": "@jupyter-widgets/controls",
            "_model_module_version": "1.5.0",
            "value": 1,
            "_view_count": null,
            "_view_module_version": "1.5.0",
            "orientation": "horizontal",
            "min": 0,
            "description_tooltip": null,
            "_model_module": "@jupyter-widgets/controls",
            "layout": "IPY_MODEL_6f5e211277904c13b8122ef7d8efb043"
          }
        },
        "de156a7257374c3197ba43f434639dbf": {
          "model_module": "@jupyter-widgets/controls",
          "model_name": "DescriptionStyleModel",
          "state": {
            "_view_name": "StyleView",
            "_model_name": "DescriptionStyleModel",
            "description_width": "",
            "_view_module": "@jupyter-widgets/base",
            "_model_module_version": "1.5.0",
            "_view_count": null,
            "_view_module_version": "1.2.0",
            "_model_module": "@jupyter-widgets/controls"
          }
        },
        "b618e9a1cc064392bcb26e595b6252dc": {
          "model_module": "@jupyter-widgets/base",
          "model_name": "LayoutModel",
          "state": {
            "_view_name": "LayoutView",
            "grid_template_rows": null,
            "right": null,
            "justify_content": null,
            "_view_module": "@jupyter-widgets/base",
            "overflow": null,
            "_model_module_version": "1.2.0",
            "_view_count": null,
            "flex_flow": null,
            "width": null,
            "min_width": null,
            "border": null,
            "align_items": null,
            "bottom": null,
            "_model_module": "@jupyter-widgets/base",
            "top": null,
            "grid_column": null,
            "overflow_y": null,
            "overflow_x": null,
            "grid_auto_flow": null,
            "grid_area": null,
            "grid_template_columns": null,
            "flex": null,
            "_model_name": "LayoutModel",
            "justify_items": null,
            "grid_row": null,
            "max_height": null,
            "align_content": null,
            "visibility": null,
            "align_self": null,
            "height": null,
            "min_height": null,
            "padding": null,
            "grid_auto_rows": null,
            "grid_gap": null,
            "max_width": null,
            "order": null,
            "_view_module_version": "1.2.0",
            "grid_template_areas": null,
            "object_position": null,
            "object_fit": null,
            "grid_auto_columns": null,
            "margin": null,
            "display": null,
            "left": null
          }
        },
        "83c6107954424a6dbc4ec9be550769bb": {
          "model_module": "@jupyter-widgets/controls",
          "model_name": "ProgressStyleModel",
          "state": {
            "_view_name": "StyleView",
            "_model_name": "ProgressStyleModel",
            "description_width": "",
            "_view_module": "@jupyter-widgets/base",
            "_model_module_version": "1.5.0",
            "_view_count": null,
            "_view_module_version": "1.2.0",
            "bar_color": null,
            "_model_module": "@jupyter-widgets/controls"
          }
        },
        "6f5e211277904c13b8122ef7d8efb043": {
          "model_module": "@jupyter-widgets/base",
          "model_name": "LayoutModel",
          "state": {
            "_view_name": "LayoutView",
            "grid_template_rows": null,
            "right": null,
            "justify_content": null,
            "_view_module": "@jupyter-widgets/base",
            "overflow": null,
            "_model_module_version": "1.2.0",
            "_view_count": null,
            "flex_flow": null,
            "width": null,
            "min_width": null,
            "border": null,
            "align_items": null,
            "bottom": null,
            "_model_module": "@jupyter-widgets/base",
            "top": null,
            "grid_column": null,
            "overflow_y": null,
            "overflow_x": null,
            "grid_auto_flow": null,
            "grid_area": null,
            "grid_template_columns": null,
            "flex": null,
            "_model_name": "LayoutModel",
            "justify_items": null,
            "grid_row": null,
            "max_height": null,
            "align_content": null,
            "visibility": null,
            "align_self": null,
            "height": null,
            "min_height": null,
            "padding": null,
            "grid_auto_rows": null,
            "grid_gap": null,
            "max_width": null,
            "order": null,
            "_view_module_version": "1.2.0",
            "grid_template_areas": null,
            "object_position": null,
            "object_fit": null,
            "grid_auto_columns": null,
            "margin": null,
            "display": null,
            "left": null
          }
        }
      }
    }
  },
  "cells": [
    {
      "cell_type": "markdown",
      "metadata": {
        "id": "view-in-github",
        "colab_type": "text"
      },
      "source": [
        "<a href=\"https://colab.research.google.com/github/lavanyashukla/neural_networks/blob/master/emotion.ipynb\" target=\"_parent\"><img src=\"https://colab.research.google.com/assets/colab-badge.svg\" alt=\"Open In Colab\"/></a>"
      ]
    },
    {
      "cell_type": "markdown",
      "metadata": {
        "id": "83pM76LxfXP8"
      },
      "source": [
        "# Training an emotion classifier with Keras\n",
        "\n",
        "In this tutorial we'll train an emotion classifier and deploy it to a tensorflow js frontend.  The first step is setting up the environment."
      ]
    },
    {
      "cell_type": "code",
      "metadata": {
        "id": "716z63DMfWoq"
      },
      "source": [
        "# Install wandb\n",
        "%pip install -qq wandb"
      ],
      "execution_count": 6,
      "outputs": []
    },
    {
      "cell_type": "code",
      "metadata": {
        "id": "UdQHTvMTfs1c"
      },
      "source": [
        "#import libraries\n",
        "import warnings\n",
        "warnings.filterwarnings('ignore')\n",
        "import pandas as pd\n",
        "import numpy as np\n",
        "import cv2\n",
        "import subprocess\n",
        "import os\n",
        "import time\n",
        "import wandb"
      ],
      "execution_count": 7,
      "outputs": []
    },
    {
      "cell_type": "markdown",
      "metadata": {
        "id": "m6vgqwva0PKy"
      },
      "source": [
        "## Load the fer2013 grayscale face emotion dataset\n",
        "\n",
        "https://www.kaggle.com/c/challenges-in-representation-learning-facial-expression-recognition-challenge/data\n",
        "\n",
        "We manually do an 80/20 train-test split and cache the data to disk."
      ]
    },
    {
      "cell_type": "code",
      "metadata": {
        "id": "ujDGNN-FgNBa"
      },
      "source": [
        "def load_fer2013(force=False):\n",
        "    \"\"\"Load the emotion dataset\"\"\"\n",
        "    if force or not os.path.exists(\"fer2013\"):\n",
        "        print(\"Downloading the face emotion dataset...\")\n",
        "        subprocess.check_output(\n",
        "            \"curl -SL https://www.dropbox.com/s/opuvvdv3uligypx/fer2013.tar | tar xz\", shell=True)\n",
        "    print(\"Loading dataset...\")\n",
        "    if not os.path.exists('face_cache.npz'):\n",
        "        data = pd.read_csv(\"fer2013/fer2013.csv\")\n",
        "        pixels = data['pixels'].tolist()\n",
        "        width, height = 48, 48\n",
        "        faces = []\n",
        "        for pixel_sequence in pixels:\n",
        "            pixs = pixel_sequence.split(' ')\n",
        "            try:\n",
        "                face = np.asarray(pixel_sequence.split(\n",
        "                    ' '), dtype=np.uint8).reshape(width, height)\n",
        "                face = cv2.resize(face.astype('uint8'), (width, height))\n",
        "                faces.append(face.astype('float32'))\n",
        "            except ValueError:\n",
        "              print(\"Unable to load face.\")\n",
        "\n",
        "        faces = np.asarray(faces)\n",
        "        faces = np.expand_dims(faces, -1)\n",
        "        emotions = pd.get_dummies(data['emotion']).values()\n",
        "\n",
        "        val_faces = faces[int(len(faces) * 0.8):]\n",
        "        val_emotions = emotions[int(len(faces) * 0.8):]\n",
        "        train_faces = faces[:int(len(faces) * 0.8)]\n",
        "        train_emotions = emotions[:int(len(faces) * 0.8)]\n",
        "        np.savez('face_cache.npz', train_faces=train_faces, train_emotions=train_emotions,\n",
        "                 val_faces=val_faces, val_emotions=val_emotions)\n",
        "    cached = np.load('face_cache.npz')\n",
        "\n",
        "    return cached['train_faces'], cached['train_emotions'], cached['val_faces'], cached['val_emotions']"
      ],
      "execution_count": 8,
      "outputs": []
    },
    {
      "cell_type": "markdown",
      "metadata": {
        "id": "ihedxZW-364Y"
      },
      "source": [
        "# Deep Learning\n",
        "\n",
        "We define a train() function with default inputs.  In the second cell we manually call training and convert the keras model into a tensorflow js model."
      ]
    },
    {
      "cell_type": "code",
      "metadata": {
        "id": "u-E_wuM4gR9e"
      },
      "source": [
        "# Set default hyperparameters\n",
        "default_config = {\n",
        "    \"learning_rate\": 0.001,\n",
        "    \"batch_size\": 32,\n",
        "    \"num_epochs\": 10,\n",
        "    \"dropout\": 0.2\n",
        "}\n",
        "def train():\n",
        "  \"\"\"Train an emotion classifier using wandb.config as input\"\"\"\n",
        "  import tensorflow as tf\n",
        "  import wandb\n",
        "  tf.keras.backend.clear_session()\n",
        "  # Inititialize W&B with default config options\n",
        "  wandb.init(entity=\"wandb\", project=\"emotion\", config=default_config)\n",
        "  config = wandb.config\n",
        "  print(dict(config))\n",
        "  \n",
        "  # Load dataset\n",
        "  input_shape = (48, 48, 1)\n",
        "  train_faces, train_emotions, val_faces, val_emotions = load_fer2013()\n",
        "  num_samples, num_classes = train_emotions.shape\n",
        "  \n",
        "  # Normalize data\n",
        "  train_faces /= 255.\n",
        "  val_faces /= 255.\n",
        "  \n",
        "  # Define the model\n",
        "  optimizer = tf.keras.optimizers.Adam(learning_rate=config.learning_rate)\n",
        "  #model = tf.keras.applications.mobilenet_v2.MobileNetV2(input_shape=input_shape, include_top=False)\n",
        "\n",
        "  model = tf.keras.Sequential()\n",
        "  model.add(tf.keras.layers.Flatten(input_shape=input_shape))\n",
        "  model.add(tf.keras.layers.Dense(128, activation=\"relu\"))\n",
        "  model.add(tf.keras.layers.Dropout(0.4))\n",
        "  model.add(tf.keras.layers.Dense(num_classes, activation=\"softmax\"))\n",
        "  model.compile(optimizer=optimizer, loss='categorical_crossentropy',\n",
        "                metrics=['accuracy'])\n",
        "\n",
        "  # Save extra hyperparameter\n",
        "  config.total_params = model.count_params()\n",
        "    \n",
        "  # Train the model\n",
        "  model.fit(train_faces, train_emotions, batch_size=config.batch_size,\n",
        "            epochs=config.num_epochs, verbose=1, callbacks=[\n",
        "                wandb.keras.WandbCallback(data_type=\"image\", log_weights=True, labels=[\n",
        "                              \"Angry\", \"Disgust\", \"Fear\", \"Happy\", \"Sad\", \"Surprise\", \"Neutral\"])\n",
        "            ], validation_data=(val_faces, val_emotions))\n",
        "\n",
        "  # Save the model locally\n",
        "  model.save(\"emotion.h5\")"
      ],
      "execution_count": 9,
      "outputs": []
    },
    {
      "cell_type": "code",
      "metadata": {
        "id": "Ndvq2qYv66Ot",
        "colab": {
          "base_uri": "https://localhost:8080/",
          "height": 647,
          "referenced_widgets": [
            "99cdaf8ccbd34ef18b3cde17604c1e3f",
            "924839cf51d34857ba2b2bf4a39a3b2a",
            "b70d35103d5d440482e9a531dbe3f141",
            "a432f44ba71f48f18dbcf47434a5dddb",
            "de156a7257374c3197ba43f434639dbf",
            "b618e9a1cc064392bcb26e595b6252dc",
            "83c6107954424a6dbc4ec9be550769bb",
            "6f5e211277904c13b8122ef7d8efb043"
          ]
        },
        "outputId": "e43673f3-6815-48e9-c036-8f6d33924abd"
      },
      "source": [
        "# Train the model\n",
        "train()"
      ],
      "execution_count": 10,
      "outputs": [
        {
          "output_type": "display_data",
          "data": {
            "text/html": [
              "Finishing last run (ID:3ekxksbf) before initializing another..."
            ],
            "text/plain": [
              "<IPython.core.display.HTML object>"
            ]
          },
          "metadata": {
            "tags": []
          }
        },
        {
          "output_type": "display_data",
          "data": {
            "text/html": [
              "<br/>Waiting for W&B process to finish, PID 114<br/>Program ended successfully."
            ],
            "text/plain": [
              "<IPython.core.display.HTML object>"
            ]
          },
          "metadata": {
            "tags": []
          }
        },
        {
          "output_type": "display_data",
          "data": {
            "application/vnd.jupyter.widget-view+json": {
              "model_id": "99cdaf8ccbd34ef18b3cde17604c1e3f",
              "version_minor": 0,
              "version_major": 2
            },
            "text/plain": [
              "VBox(children=(Label(value=' 0.00MB of 0.00MB uploaded (0.00MB deduped)\\r'), FloatProgress(value=1.0, max=1.0)…"
            ]
          },
          "metadata": {
            "tags": []
          }
        },
        {
          "output_type": "display_data",
          "data": {
            "text/html": [
              "Find user logs for this run at: <code>/content/wandb/run-20210203_205925-3ekxksbf/logs/debug.log</code>"
            ],
            "text/plain": [
              "<IPython.core.display.HTML object>"
            ]
          },
          "metadata": {
            "tags": []
          }
        },
        {
          "output_type": "display_data",
          "data": {
            "text/html": [
              "Find internal logs for this run at: <code>/content/wandb/run-20210203_205925-3ekxksbf/logs/debug-internal.log</code>"
            ],
            "text/plain": [
              "<IPython.core.display.HTML object>"
            ]
          },
          "metadata": {
            "tags": []
          }
        },
        {
          "output_type": "display_data",
          "data": {
            "text/html": [
              "Synced 5 W&B file(s), 0 media file(s), 0 artifact file(s) and 1 other file(s)"
            ],
            "text/plain": [
              "<IPython.core.display.HTML object>"
            ]
          },
          "metadata": {
            "tags": []
          }
        },
        {
          "output_type": "display_data",
          "data": {
            "text/html": [
              "\n",
              "                    <br/>Synced <strong style=\"color:#cdcd00\">vague-fog-552</strong>: <a href=\"https://wandb.ai/wandb/emotion/runs/3ekxksbf\" target=\"_blank\">https://wandb.ai/wandb/emotion/runs/3ekxksbf</a><br/>\n",
              "                "
            ],
            "text/plain": [
              "<IPython.core.display.HTML object>"
            ]
          },
          "metadata": {
            "tags": []
          }
        },
        {
          "output_type": "display_data",
          "data": {
            "text/html": [
              "...Successfully finished last run (ID:3ekxksbf). Initializing new run:<br/><br/>"
            ],
            "text/plain": [
              "<IPython.core.display.HTML object>"
            ]
          },
          "metadata": {
            "tags": []
          }
        },
        {
          "output_type": "display_data",
          "data": {
            "text/html": [
              "\n",
              "                Tracking run with wandb version 0.10.17<br/>\n",
              "                Syncing run <strong style=\"color:#cdcd00\">robust-resonance-553</strong> to <a href=\"https://wandb.ai\" target=\"_blank\">Weights & Biases</a> <a href=\"https://docs.wandb.com/integrations/jupyter.html\" target=\"_blank\">(Documentation)</a>.<br/>\n",
              "                Project page: <a href=\"https://wandb.ai/wandb/emotion\" target=\"_blank\">https://wandb.ai/wandb/emotion</a><br/>\n",
              "                Run page: <a href=\"https://wandb.ai/wandb/emotion/runs/ezrehcpa\" target=\"_blank\">https://wandb.ai/wandb/emotion/runs/ezrehcpa</a><br/>\n",
              "                Run data is saved locally in <code>/content/wandb/run-20210203_210100-ezrehcpa</code><br/><br/>\n",
              "            "
            ],
            "text/plain": [
              "<IPython.core.display.HTML object>"
            ]
          },
          "metadata": {
            "tags": []
          }
        },
        {
          "output_type": "stream",
          "text": [
            "{'learning_rate': 0.001, 'batch_size': 32, 'num_epochs': 10, 'dropout': 0.2}\n",
            "Loading dataset...\n"
          ],
          "name": "stdout"
        },
        {
          "output_type": "error",
          "ename": "TypeError",
          "evalue": "ignored",
          "traceback": [
            "\u001b[0;31m---------------------------------------------------------------------------\u001b[0m",
            "\u001b[0;31mTypeError\u001b[0m                                 Traceback (most recent call last)",
            "\u001b[0;32m<ipython-input-10-7b965fe89d98>\u001b[0m in \u001b[0;36m<module>\u001b[0;34m()\u001b[0m\n\u001b[1;32m      1\u001b[0m \u001b[0;31m# Train the model\u001b[0m\u001b[0;34m\u001b[0m\u001b[0;34m\u001b[0m\u001b[0;34m\u001b[0m\u001b[0m\n\u001b[0;32m----> 2\u001b[0;31m \u001b[0mtrain\u001b[0m\u001b[0;34m(\u001b[0m\u001b[0;34m)\u001b[0m\u001b[0;34m\u001b[0m\u001b[0;34m\u001b[0m\u001b[0m\n\u001b[0m",
            "\u001b[0;32m<ipython-input-9-2c38646f961e>\u001b[0m in \u001b[0;36mtrain\u001b[0;34m()\u001b[0m\n\u001b[1;32m     18\u001b[0m   \u001b[0;31m# Load dataset\u001b[0m\u001b[0;34m\u001b[0m\u001b[0;34m\u001b[0m\u001b[0;34m\u001b[0m\u001b[0m\n\u001b[1;32m     19\u001b[0m   \u001b[0minput_shape\u001b[0m \u001b[0;34m=\u001b[0m \u001b[0;34m(\u001b[0m\u001b[0;36m48\u001b[0m\u001b[0;34m,\u001b[0m \u001b[0;36m48\u001b[0m\u001b[0;34m,\u001b[0m \u001b[0;36m1\u001b[0m\u001b[0;34m)\u001b[0m\u001b[0;34m\u001b[0m\u001b[0;34m\u001b[0m\u001b[0m\n\u001b[0;32m---> 20\u001b[0;31m   \u001b[0mtrain_faces\u001b[0m\u001b[0;34m,\u001b[0m \u001b[0mtrain_emotions\u001b[0m\u001b[0;34m,\u001b[0m \u001b[0mval_faces\u001b[0m\u001b[0;34m,\u001b[0m \u001b[0mval_emotions\u001b[0m \u001b[0;34m=\u001b[0m \u001b[0mload_fer2013\u001b[0m\u001b[0;34m(\u001b[0m\u001b[0;34m)\u001b[0m\u001b[0;34m\u001b[0m\u001b[0;34m\u001b[0m\u001b[0m\n\u001b[0m\u001b[1;32m     21\u001b[0m   \u001b[0mnum_samples\u001b[0m\u001b[0;34m,\u001b[0m \u001b[0mnum_classes\u001b[0m \u001b[0;34m=\u001b[0m \u001b[0mtrain_emotions\u001b[0m\u001b[0;34m.\u001b[0m\u001b[0mshape\u001b[0m\u001b[0;34m\u001b[0m\u001b[0;34m\u001b[0m\u001b[0m\n\u001b[1;32m     22\u001b[0m \u001b[0;34m\u001b[0m\u001b[0m\n",
            "\u001b[0;32m<ipython-input-8-0cb9e1c75520>\u001b[0m in \u001b[0;36mload_fer2013\u001b[0;34m(force)\u001b[0m\n\u001b[1;32m     23\u001b[0m         \u001b[0mfaces\u001b[0m \u001b[0;34m=\u001b[0m \u001b[0mnp\u001b[0m\u001b[0;34m.\u001b[0m\u001b[0masarray\u001b[0m\u001b[0;34m(\u001b[0m\u001b[0mfaces\u001b[0m\u001b[0;34m)\u001b[0m\u001b[0;34m\u001b[0m\u001b[0;34m\u001b[0m\u001b[0m\n\u001b[1;32m     24\u001b[0m         \u001b[0mfaces\u001b[0m \u001b[0;34m=\u001b[0m \u001b[0mnp\u001b[0m\u001b[0;34m.\u001b[0m\u001b[0mexpand_dims\u001b[0m\u001b[0;34m(\u001b[0m\u001b[0mfaces\u001b[0m\u001b[0;34m,\u001b[0m \u001b[0;34m-\u001b[0m\u001b[0;36m1\u001b[0m\u001b[0;34m)\u001b[0m\u001b[0;34m\u001b[0m\u001b[0;34m\u001b[0m\u001b[0m\n\u001b[0;32m---> 25\u001b[0;31m         \u001b[0memotions\u001b[0m \u001b[0;34m=\u001b[0m \u001b[0mpd\u001b[0m\u001b[0;34m.\u001b[0m\u001b[0mget_dummies\u001b[0m\u001b[0;34m(\u001b[0m\u001b[0mdata\u001b[0m\u001b[0;34m[\u001b[0m\u001b[0;34m'emotion'\u001b[0m\u001b[0;34m]\u001b[0m\u001b[0;34m)\u001b[0m\u001b[0;34m.\u001b[0m\u001b[0mvalues\u001b[0m\u001b[0;34m(\u001b[0m\u001b[0;34m)\u001b[0m\u001b[0;34m\u001b[0m\u001b[0;34m\u001b[0m\u001b[0m\n\u001b[0m\u001b[1;32m     26\u001b[0m \u001b[0;34m\u001b[0m\u001b[0m\n\u001b[1;32m     27\u001b[0m         \u001b[0mval_faces\u001b[0m \u001b[0;34m=\u001b[0m \u001b[0mfaces\u001b[0m\u001b[0;34m[\u001b[0m\u001b[0mint\u001b[0m\u001b[0;34m(\u001b[0m\u001b[0mlen\u001b[0m\u001b[0;34m(\u001b[0m\u001b[0mfaces\u001b[0m\u001b[0;34m)\u001b[0m \u001b[0;34m*\u001b[0m \u001b[0;36m0.8\u001b[0m\u001b[0;34m)\u001b[0m\u001b[0;34m:\u001b[0m\u001b[0;34m]\u001b[0m\u001b[0;34m\u001b[0m\u001b[0;34m\u001b[0m\u001b[0m\n",
            "\u001b[0;31mTypeError\u001b[0m: 'numpy.ndarray' object is not callable"
          ]
        }
      ]
    },
    {
      "cell_type": "markdown",
      "metadata": {
        "id": "yRbQA5Zw55Yr"
      },
      "source": [
        "# Setup & serve the frontend\n",
        "\n",
        "We're downloading and serving a pre-built React application from [github](https://github.com/vanpelt/emotion-detector)"
      ]
    },
    {
      "cell_type": "code",
      "metadata": {
        "id": "UhAYYxTzo9vA"
      },
      "source": [
        "# Download the frontend build\n",
        "!rm -rf build\n",
        "!wget -q https://github.com/vanpelt/emotion-detector/releases/download/stable/frontend.zip\n",
        "!unzip -q frontend.zip"
      ],
      "execution_count": null,
      "outputs": []
    },
    {
      "cell_type": "code",
      "metadata": {
        "id": "6IMdxcE3aRZF"
      },
      "source": [
        "# Install tensorflowjs in a virtualenv\n",
        "%pip install -q virtualenv\n",
        "!virtualenv --no-site-packages venv && . venv/bin/activate && pip install -q tensorflowjs"
      ],
      "execution_count": null,
      "outputs": []
    },
    {
      "cell_type": "code",
      "metadata": {
        "id": "qBYv-QDl2f4G"
      },
      "source": [
        "# Quantize our trained model\n",
        "!. venv/bin/activate && tensorflowjs_converter --input_format keras --quantization_bytes 2 emotion.h5 build/models"
      ],
      "execution_count": null,
      "outputs": []
    },
    {
      "cell_type": "code",
      "metadata": {
        "id": "hRpqPdPQp1OK"
      },
      "source": [
        "# Serve our custom UI\n",
        "from subprocess import Popen\n",
        "import portpicker\n",
        "try:\n",
        "  server.kill()\n",
        "except NameError:\n",
        "  pass\n",
        "port = portpicker.pick_unused_port()\n",
        "server = Popen([\"cd ./build && python -m http.server %i\" % port], shell=True,\n",
        "               stdin=None, stdout=None, stderr=None, close_fds=True)"
      ],
      "execution_count": null,
      "outputs": []
    },
    {
      "cell_type": "code",
      "metadata": {
        "id": "H3kHfhxpj3PE"
      },
      "source": [
        "#Setup the interface for display\n",
        "import IPython\n",
        "html = open(\"./build/index.html\").read()\n",
        "body = html.replace('=\"/', '=\"https://localhost:{}/'.format(port),10)\n",
        "body = body.replace(\"</head>\", '<script type=\"text/javascript\"/>window.BASE_URL = \"https://localhost:{}/\";google.colab.output.setIframeHeight(600)</script></head>'.format(port))\n",
        "display(IPython.display.HTML(body))"
      ],
      "execution_count": null,
      "outputs": []
    },
    {
      "cell_type": "markdown",
      "metadata": {
        "id": "I3PkvBxc0onw"
      },
      "source": [
        "# Hyper Parameter Sweeps\n",
        "\n",
        "Full documentation [here](https://docs.wandb.com/library/sweeps/python-api).  \n",
        "\n",
        "*WARNING* if you've run the train method in the main thread you must click \"Restart runtime\" before running a sweep.  Unfortunately tensorflow is only fork safe if it was never run in the main process.\n"
      ]
    },
    {
      "cell_type": "code",
      "metadata": {
        "id": "pHpGJx5nJrRJ"
      },
      "source": [
        "# Configure the sweep\n",
        "sweep_config = {\n",
        "  \"name\": \"Simple grid search\",\n",
        "  \"method\": \"grid\",\n",
        "  \"parameters\": {\n",
        "        \"learning_rate\": {\n",
        "            \"values\": [0.001, 0.003, 0.005]\n",
        "        },\n",
        "        \"batch_size\": {\n",
        "            \"values\": [32, 64, 128]\n",
        "        },\n",
        "        \"dropout\": {\n",
        "            \"values\": [0.2, 0.3, 0.4]\n",
        "        },\n",
        "        \"hidden_layer_size\": {\n",
        "            \"values\": [128, 256, 512]\n",
        "        }\n",
        "    }\n",
        "}\n",
        "wandb.reset_env()\n",
        "sweep_id = wandb.sweep(sweep_config, project=\"emotion\", entity=\"wandb\")"
      ],
      "execution_count": null,
      "outputs": []
    },
    {
      "cell_type": "code",
      "metadata": {
        "id": "g50PeIRq16RK"
      },
      "source": [
        "# Run an agent with our training function\n",
        "wandb.agent(sweep_id, function=train)"
      ],
      "execution_count": null,
      "outputs": []
    },
    {
      "cell_type": "markdown",
      "metadata": {
        "id": "bql72gmVpWK9"
      },
      "source": [
        "# Consuming sweep results\n",
        "\n",
        "After the sweep has completed we can query for the best run and download it's weights."
      ]
    },
    {
      "cell_type": "code",
      "metadata": {
        "id": "YjUhar18fQWK"
      },
      "source": [
        "api = wandb.Api()\n",
        "sweep = api.sweep(f\"wandb/emotion-oct29/{sweep_id}\")\n",
        "runs = sorted(sweep.runs, key=lambda run: run.summary.get(\"val_acc\", 0), reverse=True)\n",
        "val_acc = runs[0].summary.get(\"val_acc\", 0)\n",
        "print(f\"Best run {runs[0].name} with {val_acc}% validation accuracy\")\n",
        "runs[0].file(\"model-best.h5\").download(replace=True)\n",
        "print(\"Best model saved to model-best.h5\")"
      ],
      "execution_count": null,
      "outputs": []
    }
  ]
}